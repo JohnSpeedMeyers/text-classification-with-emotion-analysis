{
 "cells": [
  {
   "cell_type": "markdown",
   "metadata": {},
   "source": [
    "## Does Stance Improve Prediction in the Toxic Challenge?"
   ]
  },
  {
   "cell_type": "raw",
   "metadata": {},
   "source": [
    "## Authors: Christine Chen and John Speed Meyers\n",
    "## Christine Chen created pre-processing and analysis\n",
    "## John Speed Meyers added stance analysis and ROC curves (and some formatting)"
   ]
  },
  {
   "cell_type": "raw",
   "metadata": {},
   "source": [
    "###############\n",
    "####DESCRIPTION\n",
    "###############\n",
    "\n",
    "## PART 1 - IMPORT MODULES AND DATA\n",
    "## PART 2 - CLEAN DATA\n",
    "## PART 3 - ADD STANCE VARIABLES\n",
    "## PART 4 - RUN MODELS\n",
    "## PART 5 - ANALYZE, DISPLAY, VISUALIZE RESULTS\n"
   ]
  },
  {
   "cell_type": "markdown",
   "metadata": {},
   "source": [
    "### PART 1 - IMPORT MODULES AND DATA"
   ]
  },
  {
   "cell_type": "code",
   "execution_count": 20,
   "metadata": {
    "_cell_guid": "b1076dfc-b9ad-4769-8c92-a6c4dae69d19",
    "_uuid": "8f2839f25d086af736a60e9eeb907d3b93b6e0e5"
   },
   "outputs": [],
   "source": [
    "## Import modules\n",
    "\n",
    "## Standard modules\n",
    "import numpy as np \n",
    "import pandas as pd\n",
    "import re\n",
    "import sys\n",
    "import string\n",
    "\n",
    "## NLTK modules\n",
    "from nltk.tokenize import TweetTokenizer\n",
    "from nltk.stem.porter import PorterStemmer\n",
    "from nltk.corpus import stopwords\n",
    "\n",
    "## Scikit learn modules\n",
    "from sklearn.model_selection import train_test_split\n",
    "from sklearn.feature_extraction.text import TfidfVectorizer\n",
    "from sklearn.decomposition import TruncatedSVD\n",
    "from sklearn.metrics import roc_curve, roc_auc_score\n",
    "from sklearn.naive_bayes import GaussianNB\n",
    "from sklearn.svm import SVC\n",
    "from sklearn.ensemble import RandomForestClassifier\n",
    "\n",
    "## Plotting\n",
    "import matplotlib.pyplot as plt"
   ]
  },
  {
   "cell_type": "code",
   "execution_count": 2,
   "metadata": {},
   "outputs": [],
   "source": [
    "## Import test data, train data, and stance variables\n",
    "## NOTE: John Speed only imported 1000 rows because he wasn't able to generate stance variables for 1000 comments\n",
    "## given the limitations of RANDLex.\n",
    "train = pd.read_csv(r\"C:\\Users\\jmeyers\\Desktop\\NLP and Features\\data\\toxic_train.csv\", nrows=1000) \n",
    "##test  = pd.read_csv(r\"C:\\Users\\jmeyers\\Desktop\\NLP and Features\\data\\toxic_test.csv\",  nrows=50000)_csv\n",
    "stance = pd.read_csv(r\"C:\\Users\\jmeyers\\Desktop\\NLP and Features\\data\\stance_extraction_1000comments.csv\")"
   ]
  },
  {
   "cell_type": "code",
   "execution_count": 3,
   "metadata": {},
   "outputs": [],
   "source": [
    "## Merge training set and stance variables\n",
    "## NOTE: One comment lost in merging (n=999). If I had more time, I would figure out what the problem is. Given that this is\n",
    "## this project is for a text analysis class, finding this problem is not sufficiently important\n",
    "## to justify the time fixing it.\n",
    "train = pd.merge(train, stance, on='id')"
   ]
  },
  {
   "cell_type": "markdown",
   "metadata": {},
   "source": [
    "### PART 2 - CLEAN DATA"
   ]
  },
  {
   "cell_type": "raw",
   "metadata": {},
   "source": [
    "## Cleaning Tasks\n",
    "Task 1: Create function to remove links and images\n",
    "Task 2: Create function to expand contractions (to lower)\n",
    "Task 3: Implement task 1 and task 2 on text \n",
    "Task 4: Create tokenizer and punctuation remover\n",
    "Task 5: Create training and test datasets"
   ]
  },
  {
   "cell_type": "markdown",
   "metadata": {},
   "source": [
    "##### Task 1: Remove links and images"
   ]
  },
  {
   "cell_type": "code",
   "execution_count": 4,
   "metadata": {
    "_cell_guid": "c004428a-4633-4a7b-939f-cd6832a71edd",
    "_uuid": "944f19e72b36494b3167ca781cd1c9f3190304a8"
   },
   "outputs": [],
   "source": [
    "## Task 1: Function to remove links and images\n",
    "def cleanText(text):\n",
    "    toRemove = [\"https*\\S+\", \"Image:\"]\n",
    "    patterns = re.compile('(%s)' % '|'.join(toRemove))\n",
    "    text = re.sub(patterns, \"\", text)\n",
    "    text = re.sub('\\n', ' ', text)\n",
    "    return text"
   ]
  },
  {
   "cell_type": "markdown",
   "metadata": {},
   "source": [
    "##### Task 2: Expand contractions"
   ]
  },
  {
   "cell_type": "code",
   "execution_count": 5,
   "metadata": {
    "_cell_guid": "d5c8a55f-103e-4cb0-b375-afcbbf65ec3e",
    "_uuid": "7f7472367ab6abe7765e8d8801467cd52ec86631"
   },
   "outputs": [],
   "source": [
    "# from pycontractions import Contractions\n",
    "## Load your favorite word2vec model\n",
    "# cont = Contractions('../input/googlenewsvectorsnegative300/GoogleNews-vectors-negative300.bin')\n",
    "## optional, prevents loading on first expand_texts call\n",
    "# cont.load_models()\n",
    "# expanded_text = train.comment_text.tolist()\n",
    "# expanded_text = list(cont.expand_texts(expanded_text))\n",
    "\n",
    "contractions_dict = {\n",
    "  \"ain't\": \"am not\",\n",
    "  \"aren't\": \"are not\",\n",
    "  \"can't\": \"cannot\",\n",
    "  \"can't've\": \"cannot have\",\n",
    "  \"'cause\": \"because\",\n",
    "  \"could've\": \"could have\",\n",
    "  \"couldn't've\": \"could not have\",\n",
    "  \"couldn't\": \"could not\",\n",
    "  \"didn't\": \"did not\",\n",
    "  \"doesn't\": \"does not\",\n",
    "  \"don't\": \"do not\",\n",
    "  \"hadn't've\": \"had not have\",\n",
    "  \"hadn't\": \"had not\",\n",
    "  \"hasn't\": \"has not\",\n",
    "  \"haven't\": \"have not\",\n",
    "  \"he'd've\": \"he would have\",\n",
    "  \"he'd\": \"he would\",\n",
    "  \"he'll've\": \"he will have\",\n",
    "  \"he'll\": \"he will\",\n",
    "  \"he's\": \"he is\",\n",
    "  \"how'd'y\": \"how do you\",\n",
    "  \"how'd\": \"how did\",\n",
    "  \"how'll\": \"how will\",\n",
    "  \"how's\": \"how is\",\n",
    "  \"i'd've\": \"i would have\",\n",
    "  \"i'd\": \"i would\",\n",
    "  \"i'll've\": \"i will have\",\n",
    "  \"i'll\": \"i will\",\n",
    "  \"i'm\": \"i am\",\n",
    "  \"i've\": \"i have\",\n",
    "  \"isn't\": \"is not\",\n",
    "  \"it'd've\": \"it would have\",\n",
    "  \"it'd\": \"it had\",\n",
    "  \"it'll've\": \"it will have\",\n",
    "  \"it'll\": \"it will\",\n",
    "  \"it's\": \"it is\",\n",
    "  \"let's\": \"let us\",\n",
    "  \"ma'am\": \"madam\",\n",
    "  \"mayn't\": \"may not\",\n",
    "  \"might've\": \"might have\",\n",
    "  \"mightn't've\": \"might not have\",\n",
    "  \"mightn't\": \"might not\",\n",
    "  \"must've\": \"must have\",\n",
    "  \"mustn't've\": \"must not have\", \n",
    "  \"mustn't\": \"must not\",\n",
    "  \"needn't've\": \"need not have\",\n",
    "  \"needn't\": \"need not\",\n",
    "  \"o'clock\": \"of the clock\",\n",
    "  \"oughtn't've\": \"ought not have\", \n",
    "  \"oughtn't\": \"ought not\",\n",
    "  \"shan't've\": \"shall not have\",\n",
    "  \"sha'n't\": \"shall not\", \n",
    "  \"shan't\": \"shall not\",\n",
    "  \"she'd've\": \"she would have\",\n",
    "  \"she'd\": \"she would\",\n",
    "  \"she'll've\": \"she will have\",\n",
    "  \"she'll\": \"she will\",\n",
    "  \"she's\": \"she is\",\n",
    "  \"should've\": \"should have\",\n",
    "  \"shouldn't've\": \"should not have\",\n",
    "  \"shouldn't\": \"should not\",\n",
    "  \"so've\": \"so have\",\n",
    "  \"so's\": \"so is\",\n",
    "  \"that'd've\": \"that would have\",\n",
    "  \"that'd\": \"that would\",\n",
    "  \"that's\": \"that is\",\n",
    "  \"there'd've\": \"there would have\",\n",
    "  \"there'd\": \"there had\",\n",
    "  \"there's\": \"there is\",\n",
    "  \"they'd've\": \"they would have\", \n",
    "  \"they'd\": \"they would\",\n",
    "  \"they'll've\": \"they will have\",\n",
    "  \"they'll\": \"they will\",\n",
    "  \"they're\": \"they are\",\n",
    "  \"they've\": \"they have\",\n",
    "  \"to've\": \"to have\",\n",
    "  \"wasn't\": \"was not\",\n",
    "  \"we'd've\": \"we would have\",\n",
    "  \"we'd\": \"we had\",\n",
    "  \"we'll've\": \"we will have\",\n",
    "  \"we'll\": \"we will\",\n",
    "  \"we're\": \"we are\",\n",
    "  \"we've\": \"we have\",\n",
    "  \"weren't\": \"were not\",\n",
    "  \"what'll've\": \"what will have\",  \n",
    "  \"what'll\": \"what will\",\n",
    "  \"what're\": \"what are\",\n",
    "  \"what's\": \"what is\",\n",
    "  \"what've\": \"what have\",\n",
    "  \"when's\": \"when is\",\n",
    "  \"when've\": \"when have\",\n",
    "  \"where'd\": \"where did\",\n",
    "  \"where's\": \"where is\",\n",
    "  \"where've\": \"where have\",\n",
    "  \"who'll've\": \"who will have\", \n",
    "  \"who'll\": \"who will\",\n",
    "  \"who's\": \"who is\",\n",
    "  \"who've\": \"who have\",\n",
    "  \"why's\": \"why is\",\n",
    "  \"why've\": \"why have\",\n",
    "  \"will've\": \"will have\",\n",
    "  \"won't\": \"will not\",\n",
    "  \"won't've\": \"will not have\",\n",
    "  \"would've\": \"would have\",\n",
    "  \"wouldn't've\": \"would not have\", \n",
    "  \"wouldn't\": \"would not\",\n",
    "  \"y'all'd've\": \"you all would have\",\n",
    "  \"y'all'd\": \"you all would\",\n",
    "  \"y'all're\": \"you all are\",\n",
    "  \"y'all've\": \"you all have\",\n",
    "  \"y'all\": \"you all\",\n",
    "  \"y'alls\": \"you alls\",\n",
    "  \"you'd've\": \"you would have\",\n",
    "  \"you'd\": \"you had\",\n",
    "  \"you'll've\": \"you you will have\",\n",
    "  \"you'll\": \"you you will\",\n",
    "  \"you're\": \"you are\",\n",
    "  \"you've\": \"you have\"\n",
    "}\n",
    "\n",
    "contractions_re = re.compile('(%s)' % '|'.join(contractions_dict.keys()))\n",
    "\n",
    "## Function to remove contractions\n",
    "def expandContractions(text, contractions_re = contractions_re):\n",
    "    def replace(match):\n",
    "        return contractions_dict[match.group(0)]\n",
    "    return contractions_re.sub(replace, text.lower())\n"
   ]
  },
  {
   "cell_type": "markdown",
   "metadata": {},
   "source": [
    "##### Task 3: Implement tasks 1 and 2 on text"
   ]
  },
  {
   "cell_type": "code",
   "execution_count": 6,
   "metadata": {
    "_cell_guid": "37fa121c-bdd1-483a-9808-4dadf3d31a7b",
    "_uuid": "895a55cce8739cc6649fd9146d42316a57c659a1"
   },
   "outputs": [],
   "source": [
    "## Create copy of original training dataset and apply contractions and cleaning functions\n",
    "train_cleaned = train.copy()\n",
    "train_cleaned['comment_text'] = train_cleaned['comment_text'].apply(expandContractions).apply(cleanText)\n"
   ]
  },
  {
   "cell_type": "markdown",
   "metadata": {},
   "source": [
    "##### Task 4: Create tokenizer and punctuation remover"
   ]
  },
  {
   "cell_type": "code",
   "execution_count": 7,
   "metadata": {
    "_uuid": "18aeed190e3efcfcfadea48cbc1a1b2a99da8f00"
   },
   "outputs": [],
   "source": [
    "porter = PorterStemmer() ## Instantiate porter stemmer\n",
    "\n",
    "## Create Porter Stemmer tokenizer that also removes punctuation\n",
    "def porterTokenizer(text):\n",
    "    tknz = TweetTokenizer()\n",
    "    words = []    \n",
    "    for word in tknz.tokenize(text):\n",
    "        # remove punctuation\n",
    "        if (word not in string.punctuation and\n",
    "                word not in ['...', '…']):\n",
    "            words.append(word)\n",
    "    return [porter.stem(w) for w in words]\n"
   ]
  },
  {
   "cell_type": "markdown",
   "metadata": {},
   "source": [
    "##### Task 5: Create training and test datasets"
   ]
  },
  {
   "cell_type": "code",
   "execution_count": 8,
   "metadata": {},
   "outputs": [],
   "source": [
    "## NO STANCE VARIABLE DATASET\n",
    "## NOTE: THIS CODE MIGHT KILL YOUR KERNEL IF YOU DO NOT REDUCE THE SIZE OF THE DATASET IN THE IMPORT STAGE.\n",
    "\n",
    "## Set X [predictors/independent variables] and y [target variables/dependent variables]\n",
    "X = train_cleaned['comment_text'].values\n",
    "y = train_cleaned.iloc[:, 2:3].values\n",
    "\n",
    "## Split training and test set\n",
    "X_train, X_test, y_train_nostance, y_test_nostance = train_test_split(X, y,\n",
    "                                                                      test_size = 0.1,\n",
    "                                                                      random_state = 5)\n",
    "\n",
    "sys.setrecursionlimit(50000) ## the stemmer hit the default recursion limit 1000\n",
    "\n",
    "## Create Term Frequency-Inverse Document Frequency Matrix\n",
    "tfidf = TfidfVectorizer(tokenizer = porterTokenizer, stop_words='english', ngram_range=(1,2))\n",
    "X_train = tfidf.fit_transform(X_train)\n",
    "X_test = tfidf.transform(X_test)\n",
    "\n",
    "## Perform singular value decomposition on TF-IDF matrix\n",
    "tSVD = TruncatedSVD(n_components=100, random_state=1)\n",
    "X_train_nostance = tSVD.fit_transform(X_train)\n",
    "X_test_nostance = tSVD.transform(X_test)\n"
   ]
  },
  {
   "cell_type": "code",
   "execution_count": 10,
   "metadata": {},
   "outputs": [],
   "source": [
    "## STANCE VARIABLE DATASET\n",
    "## NOTE: THIS CODE MIGHT KILL YOUR KERNEL IF YOU DO NOT REDUCE THE SIZE OF THE DATASET IN THE IMPORT STAGE.\n",
    "\n",
    "## Set X [predictors/independent variables] and y [target variables/dependent variables]\n",
    "## Select both text column and stance variables\n",
    "X = train_cleaned.iloc[:, np.r_[1, 3:13]].values\n",
    "y = train_cleaned.iloc[:, 2:3].values\n",
    "\n",
    "## Split training and test set\n",
    "X_train, X_test, y_train_stance, y_test_stance = train_test_split(X, y,\n",
    "                                                   test_size = 0.1,\n",
    "                                                   random_state = 1)\n",
    "\n",
    "sys.setrecursionlimit(50000) ## the stemmer hit the default recursion limit 1000\n",
    "\n",
    "## Create Term Frequency-Inverse Document Frequency Matrix\n",
    "tfidf = TfidfVectorizer(tokenizer = porterTokenizer, stop_words='english', ngram_range=(1,2))\n",
    "X_train_tfidf = tfidf.fit_transform(X_train[:,0])\n",
    "X_test_tfidf = tfidf.transform(X_test[:,0])\n",
    "\n",
    "## Perform singular value decomposition on TF-IDF matrix\n",
    "tSVD = TruncatedSVD(n_components=100, random_state=1)\n",
    "X_train_svd = tSVD.fit_transform(X_train_tfidf)\n",
    "X_test_svd = tSVD.transform(X_test_tfidf)\n",
    "\n",
    "## concatenate SVD with stance\n",
    "X_train_stance = np.concatenate((X_train_svd, X_train[:,1:12]), axis=1)\n",
    "X_test_stance  = np.concatenate((X_test_svd,  X_test[:,1:12]),  axis=1)\n"
   ]
  },
  {
   "cell_type": "markdown",
   "metadata": {},
   "source": [
    "### RUN MODELS WITH AND WITHOUT STANCE FEATURES - VISUALIZE ROC CURVES"
   ]
  },
  {
   "cell_type": "raw",
   "metadata": {},
   "source": [
    "## Model 1A: NO STANCE: Naive Bayes (Gaussian)"
   ]
  },
  {
   "cell_type": "code",
   "execution_count": 38,
   "metadata": {},
   "outputs": [
    {
     "name": "stdout",
     "output_type": "stream",
     "text": [
      "Train ROC AUC [Naive Bayes without stance]: 0.844)\n",
      "Test ROC AUC [Naive Bayes without stance]: 0.724)\n"
     ]
    }
   ],
   "source": [
    "## Instantiate Gaussian Naive Bayes\n",
    "nb = GaussianNB()\n",
    "\n",
    "## Fit model on training data\n",
    "## Use ravel() to flatten target variable and avoid warning messages\n",
    "nb.fit(X_train_nostance, y_train_nostance.ravel())\n",
    "\n",
    "## Predict probabilities\n",
    "nb_train_preds = nb.predict_proba(X_train_nostance)\n",
    "nb_test_preds = nb.predict_proba(X_test_nostance)\n",
    "\n",
    "## Save false positive rate, true positive rate, and thresholds to create ROC curve\n",
    "fpr_nostance, tpr_nostance, thresholds = roc_curve(y_test_nostance,\n",
    "                                 nb_test_preds[:,1:2],\n",
    "                                 pos_label=1)\n",
    "\n",
    "## Calculate and print AUC score\n",
    "nb_train_score = roc_auc_score(y_train_nostance, nb_train_preds[:,1:2])\n",
    "nb_test_score = roc_auc_score(y_test_nostance, nb_test_preds[:,1:2])\n",
    "print('Train ROC AUC [Naive Bayes without stance]: %0.3f)' % nb_train_score)\n",
    "print('Test ROC AUC [Naive Bayes without stance]: %0.3f)' % nb_test_score)"
   ]
  },
  {
   "cell_type": "raw",
   "metadata": {},
   "source": [
    "## Model 1B: STANCE: Naive Bayes (Gaussian)"
   ]
  },
  {
   "cell_type": "code",
   "execution_count": 35,
   "metadata": {},
   "outputs": [
    {
     "name": "stdout",
     "output_type": "stream",
     "text": [
      "Train ROC AUC [Naive Bayes with stance]: 0.863)\n",
      "Test ROC AUC [Naive Bayes with stance]: 0.856)\n"
     ]
    }
   ],
   "source": [
    "## Instantiate Gaussian Naive Bayes\n",
    "nb = GaussianNB()\n",
    "\n",
    "## Fit model on training data\n",
    "## Use ravel() to flatten target variable and avoid warning messages\n",
    "nb.fit(X_train_stance, y_train_stance.ravel())\n",
    "\n",
    "## Predict probabilities\n",
    "nb_train_preds = nb.predict_proba(X_train_stance)\n",
    "nb_test_preds = nb.predict_proba(X_test_stance)\n",
    "\n",
    "## Save false positive rate, true positive rate, and thresholds to create ROC curve\n",
    "fpr_stance, tpr_stance, thresholds = roc_curve(y_test_stance,\n",
    "                                 nb_test_preds[:,1:2],\n",
    "                                 pos_label=1)\n",
    "\n",
    "## Calculate and print AUC score\n",
    "nb_train_score = roc_auc_score(y_train_stance, nb_train_preds[:,1:2])\n",
    "nb_test_score = roc_auc_score(y_test_stance, nb_test_preds[:,1:2])\n",
    "print('Train ROC AUC [Naive Bayes with stance]: %0.3f)' % nb_train_score)\n",
    "print('Test ROC AUC [Naive Bayes with stance]: %0.3f)' % nb_test_score)"
   ]
  },
  {
   "cell_type": "code",
   "execution_count": 42,
   "metadata": {},
   "outputs": [
    {
     "data": {
      "image/png": "[encoded data removed]",
      "text/plain": [
       "<Figure size 504x360 with 1 Axes>"
      ]
     },
     "metadata": {},
     "output_type": "display_data"
    }
   ],
   "source": [
    "fig = plt.figure(figsize=(7, 5))\n",
    "#plt.title('Naive Bayes', fontsize=40)\n",
    "plt.plot(fpr_stance, tpr_stance, label=\"Stance\")\n",
    "plt.plot(fpr_nostance, tpr_nostance, label=\"No Stance\")\n",
    "plt.legend(loc=\"lower right\", fontsize=20)\n",
    "plt.ylabel('True Positive Rate', fontsize=25)\n",
    "plt.xlabel('False Positive Rate', fontsize=25)\n",
    "plt.show()"
   ]
  },
  {
   "cell_type": "raw",
   "metadata": {},
   "source": [
    "## Model 2A: NO STANCE: Support Vector Machine"
   ]
  },
  {
   "cell_type": "code",
   "execution_count": 43,
   "metadata": {},
   "outputs": [
    {
     "name": "stdout",
     "output_type": "stream",
     "text": [
      "Train ROC AUC [Support Vector Machine without stance]: 0.934)\n",
      "Test ROC AUC [Support Vector Machine without stance]: 0.865)\n"
     ]
    }
   ],
   "source": [
    "## Instantiate support vector machine\n",
    "svm = SVC(kernel='linear', C=1, random_state=1, probability=True)\n",
    "\n",
    "## Fit model on training data\n",
    "## Use ravel() to flatten target variable and avoid warning messages\n",
    "svm.fit(X_train_nostance, y_train_nostance.ravel())\n",
    "\n",
    "## Predict probabilities\n",
    "svm_train_preds = svm.predict_proba(X_train_nostance)\n",
    "svm_test_preds = svm.predict_proba(X_test_nostance)\n",
    "\n",
    "## Save false positive rate, true positive rate, and thresholds to create ROC curve\n",
    "fpr_nostance, tpr_nostance, thresholds = roc_curve(y_test_nostance,\n",
    "                                 svm_test_preds[:,1:2],\n",
    "                                 pos_label=1)\n",
    "\n",
    "## Calculate and print AUC score\n",
    "svm_train_score = roc_auc_score(y_train_nostance, svm_train_preds[:,1:2])\n",
    "svm_test_score = roc_auc_score(y_test_nostance, svm_test_preds[:,1:2])\n",
    "print('Train ROC AUC [Support Vector Machine without stance]: %0.3f)' % svm_train_score)\n",
    "print('Test ROC AUC [Support Vector Machine without stance]: %0.3f)' % svm_test_score)"
   ]
  },
  {
   "cell_type": "raw",
   "metadata": {},
   "source": [
    "## Model 2B: STANCE: Support Vector Machine"
   ]
  },
  {
   "cell_type": "code",
   "execution_count": 44,
   "metadata": {},
   "outputs": [
    {
     "name": "stdout",
     "output_type": "stream",
     "text": [
      "Train ROC AUC [Support Vector Machine with stance]: 0.912)\n",
      "Test ROC AUC [Support Vector Machine with stance]: 0.901)\n"
     ]
    }
   ],
   "source": [
    "## Instantiate support vector machine\n",
    "svm = SVC(kernel='linear', C=1, random_state=1, probability=True)\n",
    "\n",
    "## Fit model on training data\n",
    "## Use ravel() to flatten target variable and avoid warning messages\n",
    "svm.fit(X_train_stance, y_train_stance.ravel())\n",
    "\n",
    "## Predict probabilities\n",
    "svm_train_preds = svm.predict_proba(X_train_stance)\n",
    "svm_test_preds = svm.predict_proba(X_test_stance)\n",
    "\n",
    "## Save false positive rate, true positive rate, and thresholds to create ROC curve\n",
    "fpr_stance, tpr_stance, thresholds = roc_curve(y_test_stance,\n",
    "                                 svm_test_preds[:,1:2],\n",
    "                                 pos_label=1)\n",
    "\n",
    "## Calculate and print AUC score\n",
    "svm_train_score = roc_auc_score(y_train_stance, svm_train_preds[:,1:2])\n",
    "svm_test_score = roc_auc_score(y_test_stance, svm_test_preds[:,1:2])\n",
    "print('Train ROC AUC [Support Vector Machine with stance]: %0.3f)' % svm_train_score)\n",
    "print('Test ROC AUC [Support Vector Machine with stance]: %0.3f)' % svm_test_score)"
   ]
  },
  {
   "cell_type": "code",
   "execution_count": 45,
   "metadata": {},
   "outputs": [
    {
     "data": {
      "image/png": "[encoded data removed]",
      "text/plain": [
       "<Figure size 504x360 with 1 Axes>"
      ]
     },
     "metadata": {},
     "output_type": "display_data"
    }
   ],
   "source": [
    "fig = plt.figure(figsize=(7, 5))\n",
    "#plt.title('Support Vector Machine', fontsize=40)\n",
    "plt.plot(fpr_stance, tpr_stance, label=\"Stance\")\n",
    "plt.plot(fpr_nostance, tpr_nostance, label=\"No Stance\")\n",
    "plt.legend(loc=\"lower right\", fontsize=20)\n",
    "plt.ylabel('True Positive Rate', fontsize=25)\n",
    "plt.xlabel('False Positive Rate', fontsize=25)\n",
    "plt.show()"
   ]
  },
  {
   "cell_type": "raw",
   "metadata": {},
   "source": [
    "## Model 3A: NO STANCE: Random Forests"
   ]
  },
  {
   "cell_type": "code",
   "execution_count": 46,
   "metadata": {},
   "outputs": [
    {
     "name": "stdout",
     "output_type": "stream",
     "text": [
      "Train ROC AUC [Random Forests without stance]: 1.000)\n",
      "Test ROC AUC [Random Forests without stance]: 0.746)\n"
     ]
    }
   ],
   "source": [
    "## Instantiate Random Forests Classifier\n",
    "rf = RandomForestClassifier(n_estimators=150, random_state = 1, n_jobs = -1)\n",
    "\n",
    "## Fit model on training data\n",
    "## Use ravel() to flatten target variable and avoid warning messages\n",
    "rf.fit(X_train_nostance, y_train_nostance.ravel())\n",
    "\n",
    "## Predict probabilities\n",
    "rf_train_preds = rf.predict_proba(X_train_nostance)\n",
    "rf_test_preds  = rf.predict_proba(X_test_nostance)\n",
    "\n",
    "## Save false positive rate, true positive rate, and thresholds to create ROC curve\n",
    "fpr_nostance, tpr_nostance, thresholds = roc_curve(y_test_nostance,\n",
    "                                 rf_test_preds[:,1:2],\n",
    "                                 pos_label=1)\n",
    "\n",
    "## Calculate and print AUC score\n",
    "rf_train_score = roc_auc_score(y_train_nostance, rf_train_preds[:,1:2])\n",
    "rf_test_score = roc_auc_score(y_test_nostance, rf_test_preds[:,1:2])\n",
    "print('Train ROC AUC [Random Forests without stance]: %0.3f)' % rf_train_score)\n",
    "print('Test ROC AUC [Random Forests without stance]: %0.3f)'  % rf_test_score)"
   ]
  },
  {
   "cell_type": "raw",
   "metadata": {},
   "source": [
    "## Model 3B: STANCE: Random Forests"
   ]
  },
  {
   "cell_type": "code",
   "execution_count": 47,
   "metadata": {
    "_uuid": "0b0d1889b7c616430832be3fc5237a3be577a886"
   },
   "outputs": [
    {
     "name": "stdout",
     "output_type": "stream",
     "text": [
      "Train ROC AUC [Random Forests with stance]: 1.000)\n",
      "Test ROC AUC [Random Forests with stance]: 0.887)\n"
     ]
    }
   ],
   "source": [
    "## Instantiate Random Forests Classifier\n",
    "rf = RandomForestClassifier(n_estimators=150, random_state = 1, n_jobs = -1)\n",
    "\n",
    "## Fit model on training data\n",
    "## Use ravel() to flatten target variable and avoid warning messages\n",
    "rf.fit(X_train_stance, y_train_stance.ravel())\n",
    "\n",
    "## Predict probabilities\n",
    "rf_train_preds = rf.predict_proba(X_train_stance)\n",
    "rf_test_preds  = rf.predict_proba(X_test_stance)\n",
    "\n",
    "## Save false positive rate, true positive rate, and thresholds to create ROC curve\n",
    "fpr_stance, tpr_stance, thresholds = roc_curve(y_test_stance,\n",
    "                                 rf_test_preds[:,1:2],\n",
    "                                 pos_label=1)\n",
    "\n",
    "## Calculate and print AUC score\n",
    "rf_train_score = roc_auc_score(y_train_stance, rf_train_preds[:,1:2])\n",
    "rf_test_score = roc_auc_score(y_test_stance, rf_test_preds[:,1:2])\n",
    "print('Train ROC AUC [Random Forests with stance]: %0.3f)' % rf_train_score)\n",
    "print('Test ROC AUC [Random Forests with stance]: %0.3f)'  % rf_test_score)"
   ]
  },
  {
   "cell_type": "code",
   "execution_count": 48,
   "metadata": {},
   "outputs": [
    {
     "data": {
      "image/png": "[encoded data removed]",
      "text/plain": [
       "<Figure size 504x360 with 1 Axes>"
      ]
     },
     "metadata": {},
     "output_type": "display_data"
    }
   ],
   "source": [
    "fig = plt.figure(figsize=(7, 5))\n",
    "#plt.title('Random Forests', fontsize=40)\n",
    "plt.plot(fpr_stance, tpr_stance, label=\"Stance\")\n",
    "plt.plot(fpr_nostance, tpr_nostance, label=\"No Stance\")\n",
    "plt.legend(loc=\"lower right\", fontsize=20)\n",
    "plt.ylabel('True Positive Rate', fontsize=25)\n",
    "plt.xlabel('False Positive Rate', fontsize=25)\n",
    "plt.show()"
   ]
  }
 ],
 "metadata": {
  "kernelspec": {
   "display_name": "Python 3",
   "language": "python",
   "name": "python3"
  },
  "language_info": {
   "codemirror_mode": {
    "name": "ipython",
    "version": 3
   },
   "file_extension": ".py",
   "mimetype": "text/x-python",
   "name": "python",
   "nbconvert_exporter": "python",
   "pygments_lexer": "ipython3",
   "version": "3.6.5"
  }
 },
 "nbformat": 4,
 "nbformat_minor": 1
}
